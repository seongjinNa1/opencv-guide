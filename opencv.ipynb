{
  "nbformat": 4,
  "nbformat_minor": 0,
  "metadata": {
    "colab": {
      "provenance": [],
      "authorship_tag": "ABX9TyOAb4V4NPxckc8Gcto/OUoF",
      "include_colab_link": true
    },
    "kernelspec": {
      "name": "python3",
      "display_name": "Python 3"
    },
    "language_info": {
      "name": "python"
    }
  },
  "cells": [
    {
      "cell_type": "markdown",
      "metadata": {
        "id": "view-in-github",
        "colab_type": "text"
      },
      "source": [
        "<a href=\"https://colab.research.google.com/github/seongjinNa1/opencv-guide/blob/main/opencv.ipynb\" target=\"_parent\"><img src=\"https://colab.research.google.com/assets/colab-badge.svg\" alt=\"Open In Colab\"/></a>"
      ]
    },
    {
      "cell_type": "markdown",
      "source": [
        "프롬포트:opencv를 활용해서 인터넷에서 다운받은 사진을 바탕화면에 저장했고 이 데이터를 입력받아서 오픈cv로 이미지 인식이 되는 걸 구글 코랩에서 실행을 하고 싶어 코드를 만들어줘"
      ],
      "metadata": {
        "id": "qEkjSw_k5WBJ"
      }
    },
    {
      "cell_type": "code",
      "execution_count": null,
      "metadata": {
        "id": "qnrpJjxD5Kmn"
      },
      "outputs": [],
      "source": [
        "# ============================================\n",
        "# 🧠 OpenCV 얼굴 인식 예제 (파일 업로드 버전)\n",
        "# ============================================\n",
        "\n",
        "# 1️⃣ 라이브러리 설치\n",
        "!pip install opencv-python\n",
        "\n",
        "# 2️⃣ 라이브러리 불러오기\n",
        "import cv2\n",
        "from google.colab import files\n",
        "from google.colab.patches import cv2_imshow\n",
        "\n",
        "# 3️⃣ 이미지 파일 업로드\n",
        "uploaded = files.upload()  # 파일 선택 창이 뜸\n",
        "filename = list(uploaded.keys())[0]\n",
        "print(f\"✅ 업로드된 파일 이름: {filename}\")\n",
        "\n",
        "# 4️⃣ 이미지 읽기\n",
        "img = cv2.imread(filename)\n",
        "cv2_imshow(img)\n",
        "\n",
        "# 5️⃣ 흑백(그레이스케일)으로 변환\n",
        "gray = cv2.cvtColor(img, cv2.COLOR_BGR2GRAY)\n",
        "\n",
        "# 6️⃣ 얼굴 인식 모델 불러오기\n",
        "face_cascade = cv2.CascadeClassifier(cv2.data.haarcascades + 'haarcascade_frontalface_default.xml')\n",
        "\n",
        "# 7️⃣ 얼굴 탐지\n",
        "faces = face_cascade.detectMultiScale(gray, scaleFactor=1.1, minNeighbors=4)\n",
        "\n",
        "# 8️⃣ 얼굴 주위에 사각형 그리기\n",
        "for (x, y, w, h) in faces:\n",
        "    cv2.rectangle(img, (x, y), (x + w, y + h), (0, 255, 0), 2)\n",
        "\n",
        "print(f\"✅ 감지된 얼굴 개수: {len(faces)}\")\n",
        "\n",
        "# 9️⃣ 결과 출력\n",
        "cv2_imshow(img)\n",
        "cv2.waitKey(0)\n",
        "cv2.destroyAllWindows()\n"
      ]
    }
  ]
}